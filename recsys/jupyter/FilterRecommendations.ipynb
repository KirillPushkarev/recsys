{
 "cells": [
  {
   "cell_type": "code",
   "execution_count": 20,
   "outputs": [],
   "source": [
    "import json\n",
    "from collections import defaultdict\n",
    "\n",
    "import pandas as pd\n",
    "import tqdm"
   ],
   "metadata": {
    "collapsed": false
   }
  },
  {
   "cell_type": "code",
   "execution_count": 21,
   "outputs": [],
   "source": [
    "DATA_DIR = \"../botify/data/\"\n",
    "\n",
    "track_with_recs = pd.read_json(f\"{DATA_DIR}recommendations_contextual.json\", lines=True)"
   ],
   "metadata": {
    "collapsed": false
   }
  },
  {
   "cell_type": "code",
   "execution_count": 22,
   "outputs": [],
   "source": [
    "track_by_id = {track[\"track\"]: track for _, track in track_with_recs.iterrows()}"
   ],
   "metadata": {
    "collapsed": false
   }
  },
  {
   "cell_type": "code",
   "execution_count": 23,
   "metadata": {
    "collapsed": true
   },
   "outputs": [
    {
     "name": "stderr",
     "output_type": "stream",
     "text": [
      "50000it [00:16, 3020.83it/s]\n"
     ]
    }
   ],
   "source": [
    "k = 40\n",
    "max_tracks_from_same_artist = 10\n",
    "\n",
    "with open(DATA_DIR + f\"recommendations_{k}_{max_tracks_from_same_artist}.json\", \"w\") as rf:\n",
    "    for _, track in tqdm.tqdm(track_with_recs.iterrows()):\n",
    "        track_index = track[\"track\"]\n",
    "        recommendations = track[\"recommendations\"]\n",
    "\n",
    "        filtered_recommendations = []\n",
    "\n",
    "        artists = defaultdict(int)\n",
    "        for neighbour in recommendations:\n",
    "            recommended_track = track_by_id[neighbour]\n",
    "            recommended_track_index = int(recommended_track[\"track\"])\n",
    "\n",
    "            if recommended_track_index == track_index:\n",
    "                continue\n",
    "\n",
    "            artist = recommended_track[\"artist\"]\n",
    "            if artists[artist] >= max_tracks_from_same_artist:\n",
    "                continue\n",
    "            artists[artist] += 1\n",
    "\n",
    "            filtered_recommendations.append(recommended_track_index)\n",
    "\n",
    "            if len(filtered_recommendations) == k:\n",
    "                break\n",
    "\n",
    "        track_with_recommendations = dict(track)\n",
    "        track_with_recommendations[\"recommendations\"] = filtered_recommendations\n",
    "\n",
    "        rf.write(json.dumps(track_with_recommendations) + \"\\n\")"
   ]
  }
 ],
 "metadata": {
  "kernelspec": {
   "display_name": "Python 3",
   "language": "python",
   "name": "python3"
  },
  "language_info": {
   "codemirror_mode": {
    "name": "ipython",
    "version": 2
   },
   "file_extension": ".py",
   "mimetype": "text/x-python",
   "name": "python",
   "nbconvert_exporter": "python",
   "pygments_lexer": "ipython2",
   "version": "2.7.6"
  }
 },
 "nbformat": 4,
 "nbformat_minor": 0
}
